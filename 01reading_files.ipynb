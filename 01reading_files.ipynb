{
  "nbformat": 4,
  "nbformat_minor": 0,
  "metadata": {
    "colab": {
      "provenance": [],
      "mount_file_id": "1JnDFJ616WzWwFz-P0ub5bDvjJ_26CkGK",
      "authorship_tag": "ABX9TyM69gAqW7dzRxH6+tvH+59u",
      "include_colab_link": true
    },
    "kernelspec": {
      "name": "python3",
      "display_name": "Python 3"
    },
    "language_info": {
      "name": "python"
    }
  },
  "cells": [
    {
      "cell_type": "markdown",
      "metadata": {
        "id": "view-in-github",
        "colab_type": "text"
      },
      "source": [
        "<a href=\"https://colab.research.google.com/github/AbrilSchz/AbrilSchz/blob/main/01reading_files.ipynb\" target=\"_parent\"><img src=\"https://colab.research.google.com/assets/colab-badge.svg\" alt=\"Open In Colab\"/></a>"
      ]
    },
    {
      "cell_type": "code",
      "execution_count": null,
      "metadata": {
        "id": "mkhpykMdeFyj"
      },
      "outputs": [],
      "source": []
    },
    {
      "cell_type": "code",
      "source": [
        "from google.colab import drive\n",
        "drive.mount('/content/drive')"
      ],
      "metadata": {
        "colab": {
          "base_uri": "https://localhost:8080/"
        },
        "id": "cTpWQ1pvf3sS",
        "outputId": "958ac3fb-e166-4db6-9d7b-17123eac0de4"
      },
      "execution_count": null,
      "outputs": [
        {
          "output_type": "stream",
          "name": "stdout",
          "text": [
            "Drive already mounted at /content/drive; to attempt to forcibly remount, call drive.mount(\"/content/drive\", force_remount=True).\n"
          ]
        }
      ]
    },
    {
      "cell_type": "code",
      "source": [
        "import pandas as pd\n",
        "import os # Para construir las rutas\n",
        "\n",
        "# Por favor, modifica esta ruta con la ubicación real de tu carpeta de archivos:\n",
        "BASE_PATH = '/content/drive/MyDrive/datathond'\n",
        "\n",
        "# Lista de archivos a cargar:\n",
        "file_map = {\n",
        "    \"diatom_inventories\": \"01_DiatomInventories_GTstudentproject_B.csv\",\n",
        "    \"site_info\": \"02_InfoSites_GTstudentproject_B.csv\",\n",
        "    \"ibd_train\": \"03_IBD_GTstudentproject_train.csv\",\n",
        "    \"ibd_test\": \"03_IBD_GTstudentproject_test.csv\",\n",
        "    \"pressure_status\": \"04_PressureStatus_GTstudentproject_B.csv\",\n",
        "    \"env_param_means\": \"05_EnvParamMeans_GTstudentproject_B.csv\",\n",
        "    \"env_param_thresholds\": \"06_ListEnvParam_GNNprojectGT_B.csv\",\n",
        "    \"taxa_codes\": \"07_TaxaCode_GTstudentproject_B.csv\",\n",
        "}\n",
        "print(\"Archivos cargados\")"
      ],
      "metadata": {
        "id": "lrue-BV-myCH",
        "colab": {
          "base_uri": "https://localhost:8080/"
        },
        "outputId": "affee7be-e441-4e88-e48c-3c593b09a62f"
      },
      "execution_count": 7,
      "outputs": [
        {
          "output_type": "stream",
          "name": "stdout",
          "text": [
            "Archivos cargados\n"
          ]
        }
      ]
    },
    {
      "cell_type": "code",
      "source": [
        "# Diccionario para almacenar todos los DataFrames\n",
        "dfs = {}\n",
        "\n",
        "print(\"Cargando archivos...\")\n",
        "\n",
        "# Iterar sobre el mapa de archivos\n",
        "for df_name, file_name in file_map.items():\n",
        "    # Construir la ruta completa al archivo\n",
        "    full_path = os.path.join(BASE_PATH, file_name)\n",
        "\n",
        "    try:\n",
        "        # Cargar el archivo CSV en un DataFrame\n",
        "        # Se incluye la opción 'encoding'='latin1' por si el CSV contiene caracteres especiales\n",
        "        # que no son leídos por el encoding por defecto ('utf-8')\n",
        "        df = pd.read_csv(full_path, encoding='latin1')\n",
        "        dfs[df_name] = df\n",
        "        print(f\"✔️ Cargado: '{df_name}' como DataFrame con {len(df)} filas.\")\n",
        "    except FileNotFoundError:\n",
        "        print(f\"❌ ERROR: El archivo '{file_name}' NO fue encontrado en la ruta: {full_path}\")\n",
        "    except Exception as e:\n",
        "        print(f\"❌ ERROR al cargar '{file_name}': {e}\")\n",
        "\n",
        "print(\"Carga de archivos completada.\")"
      ],
      "metadata": {
        "colab": {
          "base_uri": "https://localhost:8080/"
        },
        "id": "KLggbpYLqjtB",
        "outputId": "8675e6bf-ddf9-422c-e439-ca64a0b990e4"
      },
      "execution_count": 9,
      "outputs": [
        {
          "output_type": "stream",
          "name": "stdout",
          "text": [
            "Cargando archivos...\n",
            "✔️ Cargado: 'diatom_inventories' como DataFrame con 1643872 filas.\n",
            "✔️ Cargado: 'site_info' como DataFrame con 8404 filas.\n",
            "✔️ Cargado: 'ibd_train' como DataFrame con 43783 filas.\n",
            "✔️ Cargado: 'ibd_test' como DataFrame con 5063 filas.\n",
            "✔️ Cargado: 'pressure_status' como DataFrame con 49231 filas.\n"
          ]
        },
        {
          "output_type": "stream",
          "name": "stderr",
          "text": [
            "/tmp/ipython-input-1674609416.py:15: DtypeWarning: Columns (3) have mixed types. Specify dtype option on import or set low_memory=False.\n",
            "  df = pd.read_csv(full_path, encoding='latin1')\n"
          ]
        },
        {
          "output_type": "stream",
          "name": "stdout",
          "text": [
            "✔️ Cargado: 'env_param_means' como DataFrame con 3763903 filas.\n",
            "✔️ Cargado: 'env_param_thresholds' como DataFrame con 192 filas.\n",
            "✔️ Cargado: 'taxa_codes' como DataFrame con 2292 filas.\n",
            "Carga de archivos completada.\n"
          ]
        }
      ]
    },
    {
      "cell_type": "code",
      "source": [
        "# 1. Mostrar la estructura (forma) de todos los DataFrames cargados\n",
        "print(\"--- Resumen de DataFrames cargados ---\")\n",
        "for name, df in dfs.items():\n",
        "    print(f\"'{name}': {df.shape[0]} filas, {df.shape[1]} columnas\")\n",
        "\n",
        "# 2. Mostrar las primeras 5 filas del DataFrame principal (diatom_inventories)\n",
        "print(\"\\n--- Vista previa de 'diatom_inventories' (Primeras 5 filas) ---\")\n",
        "print(dfs['diatom_inventories'].head())\n",
        "\n",
        "# 3. Mostrar las columnas y tipos de datos del DataFrame principal\n",
        "print(\"\\n--- Tipos de datos de 'diatom_inventories' ---\")\n",
        "dfs['diatom_inventories'].info()\n"
      ],
      "metadata": {
        "colab": {
          "base_uri": "https://localhost:8080/"
        },
        "id": "n8_gk7pQr3ts",
        "outputId": "a20d366e-b49f-44e9-88bf-9fa38a782f06"
      },
      "execution_count": 10,
      "outputs": [
        {
          "output_type": "stream",
          "name": "stdout",
          "text": [
            "--- Resumen de DataFrames cargados ---\n",
            "'diatom_inventories': 1643872 filas, 8 columnas\n",
            "'site_info': 8404 filas, 11 columnas\n",
            "'ibd_train': 43783 filas, 4 columnas\n",
            "'ibd_test': 5063 filas, 2 columnas\n",
            "'pressure_status': 49231 filas, 30 columnas\n",
            "'env_param_means': 3763903 filas, 8 columnas\n",
            "'env_param_thresholds': 192 filas, 14 columnas\n",
            "'taxa_codes': 2292 filas, 2 columnas\n",
            "\n",
            "--- Vista previa de 'diatom_inventories' (Primeras 5 filas) ---\n",
            "                   TaxonName TaxonCode SamplingOperations_code  \\\n",
            "0  Achnanthes aapajaervensis   Achaa01      S04094200_20120910   \n",
            "1  Achnanthes aapajaervensis   Achaa01      S05155300_20100728   \n",
            "2         Achnanthes affinis   Achaf01      S02018780_20070808   \n",
            "3         Achnanthes affinis   Achaf01      S02022675_20090803   \n",
            "4         Achnanthes affinis   Achaf01      S02094920_20120726   \n",
            "\n",
            "  CodeSite_SamplingOperations Date_SamplingOperation  Abundance_nbcell  \\\n",
            "0                   S04094200             2012-09-10                 8   \n",
            "1                   S05155300             2010-07-28                 1   \n",
            "2                   S02018780             2007-08-08                 1   \n",
            "3                   S02022675             2009-08-03                 2   \n",
            "4                   S02094920             2012-07-26                 1   \n",
            "\n",
            "   TotalAbundance_SamplingOperation  Abundance_pm  \n",
            "0                               420     19.047619  \n",
            "1                               404      2.475248  \n",
            "2                               400      2.500000  \n",
            "3                               400      5.000000  \n",
            "4                               400      2.500000  \n",
            "\n",
            "--- Tipos de datos de 'diatom_inventories' ---\n",
            "<class 'pandas.core.frame.DataFrame'>\n",
            "RangeIndex: 1643872 entries, 0 to 1643871\n",
            "Data columns (total 8 columns):\n",
            " #   Column                            Non-Null Count    Dtype  \n",
            "---  ------                            --------------    -----  \n",
            " 0   TaxonName                         1643872 non-null  object \n",
            " 1   TaxonCode                         1643872 non-null  object \n",
            " 2   SamplingOperations_code           1643872 non-null  object \n",
            " 3   CodeSite_SamplingOperations       1643872 non-null  object \n",
            " 4   Date_SamplingOperation            1643872 non-null  object \n",
            " 5   Abundance_nbcell                  1643872 non-null  int64  \n",
            " 6   TotalAbundance_SamplingOperation  1643872 non-null  int64  \n",
            " 7   Abundance_pm                      1643872 non-null  float64\n",
            "dtypes: float64(1), int64(2), object(5)\n",
            "memory usage: 100.3+ MB\n"
          ]
        }
      ]
    }
  ]
}